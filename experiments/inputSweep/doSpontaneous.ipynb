{
 "cells": [
  {
   "cell_type": "code",
   "execution_count": null,
   "metadata": {
    "collapsed": true
   },
   "outputs": [],
   "source": [
    "import random\n",
    "import time\n",
    "import os\n",
    "import matplotlib.pyplot as plt\n",
    "import numpy as np\n",
    "import datetime\n",
    "# Here we import the function for auto-selection of the most active electrodes\n",
    "codeDirectory = \"\"\n",
    "os.chdir(codeDirectory)\n",
    "from interface.selectElectrodes import getElectrodeListsWithSelection"
   ]
  },
  {
   "cell_type": "code",
   "execution_count": null,
   "metadata": {
    "collapsed": false
   },
   "outputs": [],
   "source": [
    "from data.utils.cmos_utils import getCoordinates\n",
    "from matplotlib import style\n",
    "plt.style.use('classic')\n",
    "# Importing MaxLab libraries\n",
    "import maxlab\n",
    "import maxlab.system\n",
    "import maxlab.chip\n",
    "import maxlab.util\n",
    "import maxlab.saving\n",
    "import supplementary.stimulusLoopFunctions as stimulusLoopFunctions"
   ]
  },
  {
   "cell_type": "code",
   "execution_count": null,
   "metadata": {
    "collapsed": false
   },
   "outputs": [],
   "source": [
    "voltagemapPath = ...\n",
    "configFilePath = None\n",
    "saveDirectory = ...\n",
    "filename = \"Spontaneous\"\n",
    "duration = 300"
   ]
  },
  {
   "cell_type": "markdown",
   "metadata": {
    "collapsed": false
   },
   "source": []
  },
  {
   "cell_type": "code",
   "execution_count": null,
   "metadata": {
    "collapsed": false
   },
   "outputs": [],
   "source": [
    "selectionFilename = \"selection.npy\"\n",
    "voltagemap = np.load(voltagemapPath) # make sure voltage map is in input folder\n",
    "\n",
    "recordingElectrodes, electrodesSource = getElectrodeListsWithSelection(voltagemap, saveDirectory, loadFileBool=False, n_sample=1020, selection_threshold=15)"
   ]
  },
  {
   "cell_type": "code",
   "execution_count": null,
   "metadata": {
    "collapsed": false
   },
   "outputs": [],
   "source": [
    "# Initialize MaxLab system into a defined state\n",
    "maxlab.util.initialize()\n",
    "# Correct the zero-mean offset in each electrode reading\n",
    "maxlab.util.offset()\n",
    "\n",
    "# Loop through the binary voltage map to attain electrode numbers from the area of interest\n",
    "electrodes = recordingElectrodes\n",
    "\n",
    "print(\"Total number of electrodes in isolated area: \" + str(len(electrodes)))\n",
    "\n",
    "# check that this is less than available amplifiers (1024?)\n",
    "assert len(electrodes) < 1024\n",
    "#############################################\n",
    "# Initialising the chip configuration\n",
    "#############################################\n",
    "array = maxlab.chip.Array('array') # 'stimulation' is the token ID to identify the instance on the server\n",
    "array.reset()\n",
    "array.clear_selected_electrodes()\n",
    "# Selecting the electrodes to be routed\n",
    "if configFilePath is not None and os.path.exists(configFilePath):\n",
    "    array.load_config(configFilePath)\n",
    "    array.download()\n",
    "else:\n",
    "    array.select_electrodes(electrodes)\n",
    "    array.route()\n",
    "    # Download the prepared array configuration to the chip\n",
    "    array.download()\n",
    "    if configFilePath is not None:\n",
    "        array.save_config(configFilePath)\n",
    "# Code modification for different order settings of voltage array\n",
    "wells = range(1)\n",
    "# Investigating the total number of electrodes routed"
   ]
  },
  {
   "cell_type": "code",
   "execution_count": null,
   "metadata": {
    "collapsed": false
   },
   "outputs": [],
   "source": [
    "Saver = maxlab.saving.Saving()\n",
    "Saver.open_directory(saveDirectory)\n",
    "Saver.set_legacy_format(True)\n",
    "Saver.group_delete_all()\n",
    "\n",
    "# Comment out for loop in case of spikes only\n",
    "for well in wells:\n",
    "    Saver.group_define(well, \"routed\")\n",
    "\n",
    "Saver.start_file(filename)\n",
    "Saver.start_recording(wells)\n",
    "\n",
    "# Run for however many seconds possible in sequence --> send stimulation pulse for x min\n",
    "time.sleep(duration)\n",
    "\n",
    "# Stop recording data\n",
    "Saver.stop_recording()\n",
    "Saver.stop_file()\n",
    "Saver.group_delete_all()"
   ]
  }
 ],
 "metadata": {
  "kernelspec": {
   "display_name": "Python 3",
   "language": "python",
   "name": "python3"
  },
  "language_info": {
   "codemirror_mode": {
    "name": "ipython",
    "version": 2
   },
   "file_extension": ".py",
   "mimetype": "text/x-python",
   "name": "python",
   "nbconvert_exporter": "python",
   "pygments_lexer": "ipython2",
   "version": "2.7.6"
  }
 },
 "nbformat": 4,
 "nbformat_minor": 0
}
